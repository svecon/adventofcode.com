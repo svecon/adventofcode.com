{
 "cells": [
  {
   "cell_type": "code",
   "execution_count": 1,
   "metadata": {
    "collapsed": true
   },
   "outputs": [],
   "source": [
    "import numpy as np"
   ]
  },
  {
   "cell_type": "code",
   "execution_count": 2,
   "metadata": {
    "collapsed": true
   },
   "outputs": [],
   "source": [
    "def turnLeft(currentDir):\n",
    "    currentDir = tuple(currentDir)\n",
    "    if currentDir==(0,1):\n",
    "        return np.array([-1,0])\n",
    "    elif currentDir==(-1,0):\n",
    "        return np.array([0,-1])\n",
    "    elif currentDir==(0,-1):\n",
    "        return np.array([1,0])\n",
    "    elif currentDir==(1,0):\n",
    "        return np.array([0,1])\n",
    "\n",
    "def turnRight(currentDir):\n",
    "    for _ in range(3):\n",
    "        currentDir = turnLeft(currentDir)\n",
    "    return currentDir\n",
    "\n",
    "def turn(currentDir, orientation):\n",
    "    if orientation==\"L\":\n",
    "        return turnLeft(currentDir)\n",
    "    elif orientation==\"R\":\n",
    "        return turnRight(currentDir)"
   ]
  },
  {
   "cell_type": "code",
   "execution_count": 3,
   "metadata": {
    "collapsed": true
   },
   "outputs": [],
   "source": [
    "seq = \"R8, R4, R4, R8\""
   ]
  },
  {
   "cell_type": "code",
   "execution_count": 4,
   "metadata": {
    "collapsed": true
   },
   "outputs": [],
   "source": [
    "seq = \"L5, R1, L5, L1, R5, R1, R1, L4, L1, L3, R2, R4, L4, L1, L1, R2, R4, R3, L1, R4, L4, L5, L4, R4, L5, R1, R5, L2, R1, R3, L2, L4, L4, R1, L192, R5, R1, R4, L5, L4, R5, L1, L1, R48, R5, R5, L2, R4, R4, R1, R3, L1, L4, L5, R1, L4, L2, L5, R5, L2, R74, R4, L1, R188, R5, L4, L2, R5, R2, L4, R4, R3, R3, R2, R1, L3, L2, L5, L5, L2, L1, R1, R5, R4, L3, R5, L1, L3, R4, L1, L3, L2, R1, R3, R2, R5, L3, L1, L1, R5, L4, L5, R5, R2, L5, R2, L1, L5, L3, L5, L5, L1, R1, L4, L3, L1, R2, R5, L1, L3, R4, R5, L4, L1, R5, L1, R5, R5, R5, R2, R1, R2, L5, L5, L5, R4, L5, L4, L4, R5, L2, R1, R5, L1, L5, R4, L3, R4, L2, R3, R3, R3, L2, L2, L2, L1, L4, R3, L4, L2, R2, R5, L1, R2\""
   ]
  },
  {
   "cell_type": "code",
   "execution_count": 5,
   "metadata": {
    "collapsed": true
   },
   "outputs": [],
   "source": [
    "seq = seq.split(', ')"
   ]
  },
  {
   "cell_type": "code",
   "execution_count": 6,
   "metadata": {
    "collapsed": false
   },
   "outputs": [
    {
     "name": "stdout",
     "output_type": "stream",
     "text": [
      "79\n"
     ]
    }
   ],
   "source": [
    "def solve1(seq):\n",
    "    coor = np.array([0,0])\n",
    "    curDir = np.array([0,1])\n",
    "\n",
    "    visited = set()\n",
    "    visited.add(tuple(coor))\n",
    "    for s in seq:\n",
    "        curDir = turn(curDir, s[0])\n",
    "\n",
    "        for i in range(int(s[1:])):\n",
    "            coor +=  curDir\n",
    "            if tuple(coor) in visited:\n",
    "                return coor\n",
    "            visited.add(tuple(coor))\n",
    "\n",
    "def manhatton(coor):\n",
    "    return np.abs(coor).sum()\n",
    "            \n",
    "print(manhatton(solve1(seq)))"
   ]
  },
  {
   "cell_type": "code",
   "execution_count": null,
   "metadata": {
    "collapsed": true
   },
   "outputs": [],
   "source": []
  }
 ],
 "metadata": {
  "anaconda-cloud": {},
  "kernelspec": {
   "display_name": "Python [default]",
   "language": "python",
   "name": "python3"
  },
  "language_info": {
   "codemirror_mode": {
    "name": "ipython",
    "version": 3
   },
   "file_extension": ".py",
   "mimetype": "text/x-python",
   "name": "python",
   "nbconvert_exporter": "python",
   "pygments_lexer": "ipython3",
   "version": "3.5.2"
  }
 },
 "nbformat": 4,
 "nbformat_minor": 1
}
